{
 "cells": [
  {
   "cell_type": "code",
   "execution_count": 1,
   "metadata": {},
   "outputs": [],
   "source": [
    "from IPython.core.display import display, HTML\n",
    "# Full display of notebook (width of screen)\n",
    "display(HTML(\"<style>.container { width:100% !important; }</style>\"))\n",
    "\n",
    "# Import basic libraries\n",
    "import os, glob, sys\n",
    "import numpy as np   \n",
    "import pandas as pd \n",
    "\n",
    "# Define librearies needed for analysis\n",
    "import matplotlib.pyplot as plt # Matplotlibrary\n",
    "import seaborn as sns # Seaborn Library\n",
    "\n",
    "# Plotting pretty figures\n",
    "import itertools\n",
    "import matplotlib\n",
    "import matplotlib.pyplot as plt\n",
    "\n",
    "plt.rcParams['font.size']       = 19\n",
    "plt.rcParams['figure.figsize']  = (12.0, 7.0)\n",
    "plt.rcParams['lines.linewidth'] = 2\n",
    "\n",
    "SMALL_SIZE = 19\n",
    "MEDIUM_SIZE = 20\n",
    "BIGGER_SIZE = 22\n",
    "\n",
    "plt.rc('font',  size = SMALL_SIZE)\n",
    "plt.rc('axes',  titlesize = MEDIUM_SIZE)\n",
    "plt.rc('xtick', labelsize = MEDIUM_SIZE)    # fontsize of the tick labels\n",
    "plt.rc('ytick', labelsize = MEDIUM_SIZE)    # fontsize of the tick labels\n",
    "plt.rc('axes',  linewidth = 2)\n",
    "\n",
    "params = {\n",
    "            'xtick.major.width': 2.15,\n",
    "            'xtick.minor.width': 1.25,\n",
    "            'xtick.major.size': 8,\n",
    "            'xtick.minor.size': 3.5,\n",
    "            'ytick.major.width': 2.15,\n",
    "            'ytick.minor.width': 1.25,\n",
    "            'ytick.major.size': 8,\n",
    "            'ytick.minor.size': 3.5\n",
    "         }\n",
    "\n",
    "plt.rcParams.update(params)\n",
    "\n",
    "feat_path = os.path.join(os.path.abspath(os.path.dirname(os.path.dirname(os.getcwd()))))\n",
    "if feat_path not in sys.path:\n",
    "    sys.path.append(feat_path)\n",
    "    \n",
    "%load_ext autoreload\n",
    "%autoreload 2\n",
    "\n",
    "np.random.seed(42)\n",
    "\n",
    "# get additional tools\n",
    "from src.utils import utils \n",
    "\n",
    "# Define path where data is located and folder to access to it\n",
    "path_data = os.path.join(os.path.abspath(os.path.dirname(os.path.dirname(os.getcwd()))),'data','external')"
   ]
  },
  {
   "cell_type": "markdown",
   "metadata": {},
   "source": [
    "# 1. Data pre-processing"
   ]
  },
  {
   "cell_type": "code",
   "execution_count": 2,
   "metadata": {},
   "outputs": [],
   "source": [
    "# load data in pd dataframe\n",
    "train = pd.read_csv(os.path.join(path_data,'train.csv'))\n",
    "test = pd.read_csv(os.path.join(path_data,'test.csv'))\n",
    "\n",
    "# Modify\n",
    "to_drop = ['PassengerId','SibSp','Parch', 'Ticket', 'Cabin' ,'Name']\n",
    "\n",
    "train = utils.pipeline_features(train, to_drop)\n",
    "test = utils.pipeline_features(test, to_drop)"
   ]
  },
  {
   "cell_type": "code",
   "execution_count": 3,
   "metadata": {},
   "outputs": [
    {
     "data": {
      "text/html": [
       "<div>\n",
       "<style scoped>\n",
       "    .dataframe tbody tr th:only-of-type {\n",
       "        vertical-align: middle;\n",
       "    }\n",
       "\n",
       "    .dataframe tbody tr th {\n",
       "        vertical-align: top;\n",
       "    }\n",
       "\n",
       "    .dataframe thead th {\n",
       "        text-align: right;\n",
       "    }\n",
       "</style>\n",
       "<table border=\"1\" class=\"dataframe\">\n",
       "  <thead>\n",
       "    <tr style=\"text-align: right;\">\n",
       "      <th></th>\n",
       "      <th>Survived</th>\n",
       "      <th>Pclass</th>\n",
       "      <th>Sex</th>\n",
       "      <th>Age</th>\n",
       "      <th>Fare</th>\n",
       "      <th>Embarked</th>\n",
       "      <th>FamilySize</th>\n",
       "      <th>Title</th>\n",
       "      <th>Deck</th>\n",
       "    </tr>\n",
       "  </thead>\n",
       "  <tbody>\n",
       "    <tr>\n",
       "      <th>0</th>\n",
       "      <td>0</td>\n",
       "      <td>3</td>\n",
       "      <td>0</td>\n",
       "      <td>1</td>\n",
       "      <td>0</td>\n",
       "      <td>0</td>\n",
       "      <td>2</td>\n",
       "      <td>2</td>\n",
       "      <td>7</td>\n",
       "    </tr>\n",
       "    <tr>\n",
       "      <th>1</th>\n",
       "      <td>1</td>\n",
       "      <td>1</td>\n",
       "      <td>1</td>\n",
       "      <td>2</td>\n",
       "      <td>3</td>\n",
       "      <td>1</td>\n",
       "      <td>2</td>\n",
       "      <td>3</td>\n",
       "      <td>2</td>\n",
       "    </tr>\n",
       "    <tr>\n",
       "      <th>2</th>\n",
       "      <td>1</td>\n",
       "      <td>3</td>\n",
       "      <td>1</td>\n",
       "      <td>1</td>\n",
       "      <td>1</td>\n",
       "      <td>0</td>\n",
       "      <td>1</td>\n",
       "      <td>1</td>\n",
       "      <td>7</td>\n",
       "    </tr>\n",
       "    <tr>\n",
       "      <th>3</th>\n",
       "      <td>1</td>\n",
       "      <td>1</td>\n",
       "      <td>1</td>\n",
       "      <td>2</td>\n",
       "      <td>3</td>\n",
       "      <td>0</td>\n",
       "      <td>2</td>\n",
       "      <td>3</td>\n",
       "      <td>2</td>\n",
       "    </tr>\n",
       "    <tr>\n",
       "      <th>4</th>\n",
       "      <td>0</td>\n",
       "      <td>3</td>\n",
       "      <td>0</td>\n",
       "      <td>2</td>\n",
       "      <td>1</td>\n",
       "      <td>0</td>\n",
       "      <td>1</td>\n",
       "      <td>2</td>\n",
       "      <td>7</td>\n",
       "    </tr>\n",
       "  </tbody>\n",
       "</table>\n",
       "</div>"
      ],
      "text/plain": [
       "   Survived  Pclass  Sex  Age  Fare  Embarked  FamilySize  Title  Deck\n",
       "0         0       3    0    1     0         0           2      2     7\n",
       "1         1       1    1    2     3         1           2      3     2\n",
       "2         1       3    1    1     1         0           1      1     7\n",
       "3         1       1    1    2     3         0           2      3     2\n",
       "4         0       3    0    2     1         0           1      2     7"
      ]
     },
     "execution_count": 3,
     "metadata": {},
     "output_type": "execute_result"
    }
   ],
   "source": [
    "train.head()"
   ]
  },
  {
   "cell_type": "code",
   "execution_count": 4,
   "metadata": {},
   "outputs": [
    {
     "data": {
      "text/html": [
       "<div>\n",
       "<style scoped>\n",
       "    .dataframe tbody tr th:only-of-type {\n",
       "        vertical-align: middle;\n",
       "    }\n",
       "\n",
       "    .dataframe tbody tr th {\n",
       "        vertical-align: top;\n",
       "    }\n",
       "\n",
       "    .dataframe thead th {\n",
       "        text-align: right;\n",
       "    }\n",
       "</style>\n",
       "<table border=\"1\" class=\"dataframe\">\n",
       "  <thead>\n",
       "    <tr style=\"text-align: right;\">\n",
       "      <th></th>\n",
       "      <th>Survived</th>\n",
       "      <th>Pclass</th>\n",
       "      <th>Sex</th>\n",
       "      <th>Age</th>\n",
       "      <th>Fare</th>\n",
       "      <th>Embarked</th>\n",
       "      <th>FamilySize</th>\n",
       "      <th>Title</th>\n",
       "      <th>Deck</th>\n",
       "    </tr>\n",
       "  </thead>\n",
       "  <tbody>\n",
       "    <tr>\n",
       "      <th>0</th>\n",
       "      <td>0</td>\n",
       "      <td>3</td>\n",
       "      <td>0</td>\n",
       "      <td>1</td>\n",
       "      <td>0</td>\n",
       "      <td>0</td>\n",
       "      <td>2</td>\n",
       "      <td>2</td>\n",
       "      <td>7</td>\n",
       "    </tr>\n",
       "    <tr>\n",
       "      <th>1</th>\n",
       "      <td>1</td>\n",
       "      <td>1</td>\n",
       "      <td>1</td>\n",
       "      <td>2</td>\n",
       "      <td>3</td>\n",
       "      <td>1</td>\n",
       "      <td>2</td>\n",
       "      <td>3</td>\n",
       "      <td>2</td>\n",
       "    </tr>\n",
       "    <tr>\n",
       "      <th>2</th>\n",
       "      <td>1</td>\n",
       "      <td>3</td>\n",
       "      <td>1</td>\n",
       "      <td>1</td>\n",
       "      <td>1</td>\n",
       "      <td>0</td>\n",
       "      <td>1</td>\n",
       "      <td>1</td>\n",
       "      <td>7</td>\n",
       "    </tr>\n",
       "    <tr>\n",
       "      <th>3</th>\n",
       "      <td>1</td>\n",
       "      <td>1</td>\n",
       "      <td>1</td>\n",
       "      <td>2</td>\n",
       "      <td>3</td>\n",
       "      <td>0</td>\n",
       "      <td>2</td>\n",
       "      <td>3</td>\n",
       "      <td>2</td>\n",
       "    </tr>\n",
       "    <tr>\n",
       "      <th>4</th>\n",
       "      <td>0</td>\n",
       "      <td>3</td>\n",
       "      <td>0</td>\n",
       "      <td>2</td>\n",
       "      <td>1</td>\n",
       "      <td>0</td>\n",
       "      <td>1</td>\n",
       "      <td>2</td>\n",
       "      <td>7</td>\n",
       "    </tr>\n",
       "  </tbody>\n",
       "</table>\n",
       "</div>"
      ],
      "text/plain": [
       "   Survived  Pclass  Sex  Age  Fare  Embarked  FamilySize  Title  Deck\n",
       "0         0       3    0    1     0         0           2      2     7\n",
       "1         1       1    1    2     3         1           2      3     2\n",
       "2         1       3    1    1     1         0           1      1     7\n",
       "3         1       1    1    2     3         0           2      3     2\n",
       "4         0       3    0    2     1         0           1      2     7"
      ]
     },
     "execution_count": 4,
     "metadata": {},
     "output_type": "execute_result"
    }
   ],
   "source": [
    "train.head()"
   ]
  },
  {
   "cell_type": "code",
   "execution_count": 5,
   "metadata": {},
   "outputs": [],
   "source": [
    "#pip list"
   ]
  },
  {
   "cell_type": "markdown",
   "metadata": {},
   "source": [
    "# 2. features selection"
   ]
  },
  {
   "cell_type": "code",
   "execution_count": 6,
   "metadata": {},
   "outputs": [],
   "source": [
    "from src.features.feature_selector import FeatureSelector\n",
    "\n",
    "train_labels = train['Survived']\n",
    "train_ = train.drop(columns = ['Survived'])\n",
    "\n",
    "fs = FeatureSelector(data = train_, labels = train_labels)"
   ]
  },
  {
   "cell_type": "code",
   "execution_count": 7,
   "metadata": {},
   "outputs": [
    {
     "name": "stdout",
     "output_type": "stream",
     "text": [
      "0 features with a single unique value.\n",
      "\n"
     ]
    }
   ],
   "source": [
    "fs.identify_single_unique()"
   ]
  },
  {
   "cell_type": "code",
   "execution_count": 8,
   "metadata": {},
   "outputs": [
    {
     "name": "stdout",
     "output_type": "stream",
     "text": [
      "0 features with a correlation magnitude greater than 0.95.\n",
      "\n"
     ]
    }
   ],
   "source": [
    "fs.identify_collinear(correlation_threshold=0.95)"
   ]
  },
  {
   "cell_type": "code",
   "execution_count": 9,
   "metadata": {},
   "outputs": [
    {
     "data": {
      "text/plain": [
       "[]"
      ]
     },
     "execution_count": 9,
     "metadata": {},
     "output_type": "execute_result"
    }
   ],
   "source": [
    "# list of collinear features to remove\n",
    "collinear_features = fs.ops['collinear']\n",
    "# dataframe of collinear features\n",
    "collinear_features"
   ]
  },
  {
   "cell_type": "code",
   "execution_count": 10,
   "metadata": {},
   "outputs": [],
   "source": [
    "# Collinear plot of all maximally correlated features\n",
    "#fs.identify_collinear(correlation_threshold=0.96)\n",
    "#fs.plot_collinear()"
   ]
  },
  {
   "cell_type": "code",
   "execution_count": 11,
   "metadata": {},
   "outputs": [
    {
     "name": "stdout",
     "output_type": "stream",
     "text": [
      "Training Gradient Boosting Model\n",
      "\n",
      "Training until validation scores don't improve for 100 rounds\n",
      "Early stopping, best iteration is:\n",
      "[61]\tvalid_0's binary_logloss: 0.359541\n",
      "Training until validation scores don't improve for 100 rounds\n",
      "Early stopping, best iteration is:\n",
      "[104]\tvalid_0's binary_logloss: 0.255246\n",
      "Training until validation scores don't improve for 100 rounds\n",
      "Early stopping, best iteration is:\n",
      "[53]\tvalid_0's binary_logloss: 0.423482\n",
      "Training until validation scores don't improve for 100 rounds\n",
      "Early stopping, best iteration is:\n",
      "[119]\tvalid_0's binary_logloss: 0.372212\n",
      "Training until validation scores don't improve for 100 rounds\n",
      "Early stopping, best iteration is:\n",
      "[56]\tvalid_0's binary_logloss: 0.391853\n",
      "Training until validation scores don't improve for 100 rounds\n",
      "Early stopping, best iteration is:\n",
      "[68]\tvalid_0's binary_logloss: 0.345351\n",
      "Training until validation scores don't improve for 100 rounds\n",
      "Early stopping, best iteration is:\n",
      "[80]\tvalid_0's binary_logloss: 0.300631\n",
      "Training until validation scores don't improve for 100 rounds\n",
      "Early stopping, best iteration is:\n",
      "[45]\tvalid_0's binary_logloss: 0.46099\n",
      "Training until validation scores don't improve for 100 rounds\n",
      "Early stopping, best iteration is:\n",
      "[67]\tvalid_0's binary_logloss: 0.392685\n",
      "Training until validation scores don't improve for 100 rounds\n",
      "Early stopping, best iteration is:\n",
      "[89]\tvalid_0's binary_logloss: 0.386674\n",
      "\n",
      "0 features with zero importance after one-hot encoding.\n",
      "\n"
     ]
    }
   ],
   "source": [
    "fs.identify_zero_importance(task = 'classification', \n",
    "                            eval_metric = 'multi_logloss', \n",
    "                            n_iterations = 10, \n",
    "                            early_stopping = True)"
   ]
  },
  {
   "cell_type": "code",
   "execution_count": 12,
   "metadata": {},
   "outputs": [
    {
     "data": {
      "image/png": "[encoded data removed]",
      "text/plain": [
       "<Figure size 1000x600 with 1 Axes>"
      ]
     },
     "metadata": {},
     "output_type": "display_data"
    },
    {
     "data": {
      "image/png": "[encoded data removed]",
      "text/plain": [
       "<Figure size 600x400 with 1 Axes>"
      ]
     },
     "metadata": {},
     "output_type": "display_data"
    },
    {
     "name": "stdout",
     "output_type": "stream",
     "text": [
      "8 features required for 0.99 of cumulative importance\n"
     ]
    }
   ],
   "source": [
    "fs.plot_feature_importances(threshold = 0.99, plot_n = 8)"
   ]
  },
  {
   "cell_type": "code",
   "execution_count": 13,
   "metadata": {},
   "outputs": [
    {
     "name": "stdout",
     "output_type": "stream",
     "text": [
      "Total of 0 features identified for removal\n"
     ]
    }
   ],
   "source": [
    "# gather all identified features for for removal\n",
    "remove = fs.check_removal()"
   ]
  },
  {
   "cell_type": "code",
   "execution_count": 14,
   "metadata": {},
   "outputs": [],
   "source": [
    "# Remove features suggested for Training and Testing data\n",
    "X_train = train.drop(np.intersect1d(remove, train.keys()), axis=1)\n",
    "X_test  = test.drop(np.intersect1d(remove, test.keys()), axis=1)"
   ]
  },
  {
   "cell_type": "code",
   "execution_count": 15,
   "metadata": {},
   "outputs": [],
   "source": [
    "Y_train = X_train['Survived']\n",
    "X_train = X_train.drop(columns = ['Survived'])"
   ]
  },
  {
   "cell_type": "markdown",
   "metadata": {},
   "source": [
    "# 3. Baseline CV = 5"
   ]
  },
  {
   "cell_type": "code",
   "execution_count": 16,
   "metadata": {},
   "outputs": [
    {
     "name": "stdout",
     "output_type": "stream",
     "text": [
      "Classifier: NB\n",
      "Acc : (79.02 +- 2.52)%\n",
      "F1_w: (79.24 +- 2.45)%\n",
      "\n",
      "Classifier: DT\n",
      "Acc : (80.58 +- 2.05)%\n",
      "F1_w: (80.34 +- 2.03)%\n",
      "\n",
      "Classifier: SGD\n",
      "Acc : (69.49 +- 10.91)%\n",
      "F1_w: (66.00 +- 13.28)%\n",
      "\n",
      "Classifier: LR\n",
      "Acc : (77.67 +- 2.03)%\n",
      "F1_w: (77.55 +- 2.05)%\n",
      "\n",
      "Classifier: RF\n",
      "Acc : (81.48 +- 3.56)%\n",
      "F1_w: (81.30 +- 3.67)%\n",
      "\n",
      "Classifier: KN\n",
      "Acc : (80.13 +- 2.40)%\n",
      "F1_w: (80.08 +- 2.24)%\n",
      "\n",
      "Classifier: lgb\n",
      "Acc : (81.93 +- 3.37)%\n",
      "F1_w: (81.66 +- 3.55)%\n",
      "\n",
      "Classifier: XGB\n",
      "Acc : (81.26 +- 3.60)%\n",
      "F1_w: (81.03 +- 3.74)%\n",
      "\n",
      "Classifier: AdaBoost\n",
      "Acc : (80.92 +- 1.87)%\n",
      "F1_w: (80.39 +- 2.94)%\n",
      "\n"
     ]
    }
   ],
   "source": [
    "from sklearn.model_selection import cross_val_score, KFold, StratifiedKFold\n",
    "# ML models\n",
    "from sklearn.ensemble import AdaBoostClassifier\n",
    "from sklearn.tree import DecisionTreeClassifier # Generic Decision Tree\n",
    "from sklearn.ensemble import RandomForestClassifier # Random Forest\n",
    "from sklearn.svm import SVC # Support Vector machine\n",
    "from sklearn.linear_model import LogisticRegression # Logistic Regression\n",
    "from sklearn.linear_model import SGDClassifier\n",
    "from sklearn.neighbors import KNeighborsClassifier\n",
    "from sklearn.naive_bayes import GaussianNB\n",
    "from xgboost import XGBClassifier\n",
    "from lightgbm import LGBMClassifier\n",
    "\n",
    "from sklearn.metrics import make_scorer, fbeta_score\n",
    "from sklearn.metrics import confusion_matrix, accuracy_score, f1_score\n",
    "from sklearn.metrics import precision_score, recall_score, balanced_accuracy_score\n",
    "from sklearn.metrics import precision_recall_curve, average_precision_score\n",
    "from sklearn.metrics import classification_report\n",
    "\n",
    "# Calculate Baseline\n",
    "abc = AdaBoostClassifier(RandomForestClassifier(random_state=24), algorithm=\"SAMME.R\")\n",
    "rfc = RandomForestClassifier(random_state=24, n_jobs = -1)\n",
    "dtc = DecisionTreeClassifier(random_state=24)\n",
    "xgbo = XGBClassifier(random_state=24, n_jobs = -1)\n",
    "lgbw = LGBMClassifier(learning_rate = 0.05, n_jobs=-1)\n",
    "sgd = SGDClassifier(loss=  \"log\", random_state=24, n_jobs = -1)\n",
    "svc = SVC(probability=True, random_state=24)\n",
    "lrc = LogisticRegression(random_state=24, n_jobs = -1)\n",
    "knc = KNeighborsClassifier(n_jobs = -1, n_neighbors = 3)\n",
    "nb = GaussianNB()\n",
    "\n",
    "# Models\n",
    "clfs = {'NB'      : nb,\n",
    "        'DT'      : dtc,\n",
    "        'SGD'     : sgd,\n",
    "        'LR'      : lrc,\n",
    "        'DT'      : dtc,\n",
    "        'RF'      : rfc,\n",
    "        'KN'      : knc,\n",
    "        'lgb'     : lgbw,\n",
    "        'XGB'     : xgbo, \n",
    "        'AdaBoost': abc\n",
    "        }\n",
    "\n",
    "for name, model in clfs.items():\n",
    "    \n",
    "    print(\"Classifier: {}\".format(name))\n",
    "    \n",
    "    # compute benchmark\n",
    "\n",
    "    results  = cross_val_score(model, X_train, Y_train, cv=StratifiedKFold(n_splits=5),  scoring = 'accuracy')\n",
    "    results2 = cross_val_score(model, X_train, Y_train, scoring=make_scorer(f1_score, average='weighted'), cv=StratifiedKFold(n_splits=5) )\n",
    "    \n",
    "    print(r\"Acc : ({:.2f} +- {:.2f})%\".format(  results.mean() * 100, results.std() * 100))\n",
    "    print(r\"F1_w: ({:.2f} +- {:.2f})%\".format( results2.mean() * 100, results2.std() * 100))\n",
    "    print(\"\")"
   ]
  },
  {
   "cell_type": "markdown",
   "metadata": {},
   "source": [
    "# 4. Data Transformation"
   ]
  },
  {
   "cell_type": "code",
   "execution_count": null,
   "metadata": {},
   "outputs": [],
   "source": [
    "from sklearn.pipeline import Pipeline\n",
    "from sklearn.preprocessing import OneHotEncoder\n",
    "from sklearn.base import BaseEstimator, TransformerMixin\n",
    "from sklearn.pipeline import FeatureUnion\n",
    "from pandas import DataFrame\n",
    "\n",
    "# Create a class to select numerical or categorical columns\n",
    "class OldDataFrameSelector(BaseEstimator, TransformerMixin):\n",
    "    def __init__(self, attribute_names):\n",
    "        self.attribute_names = attribute_names\n",
    "\n",
    "    def fit(self, X, y=None):\n",
    "        return self\n",
    "\n",
    "    def transform(self, X):\n",
    "        return X[self.attribute_names].values\n",
    "\n",
    "def data_transf(df, features_num, trans_num, scaling_num, features_cat, trans_cat):\n",
    "    \"\"\"\n",
    "    Keyword arguments:\n",
    "    df                  -- dataframe\n",
    "    features_num        -- features to transform\n",
    "                        \n",
    "    transformation      -- specific wat to deal with skenwess\n",
    "    scaling             -- numeric scaling \n",
    "    -----------------------------------------\n",
    "    Returns:  new_df\n",
    "    \"\"\"\n",
    "\n",
    "    num_pipeline = Pipeline([\n",
    "        ('selector', OldDataFrameSelector(features_num)),  # select only num_attribs\n",
    "        #('num_encoding', None),  \n",
    "        ('num_encoding', OneHotEncoder())        \n",
    "    ])\n",
    "    cat_pipeline = Pipeline([\n",
    "        ('selector', OldDataFrameSelector(features_cat)),  # select only num_attribs\n",
    "        ('cat_encoding', None)        \n",
    "    ])\n",
    "    \n",
    "        # Process full pipeline\n",
    "    preprocess_pipeline = FeatureUnion(transformer_list=[\n",
    "        (\"num_pipeline\", num_pipeline),  # numerical attributes\n",
    "    ])\n",
    "    # data transformation  accoding to pipeline\n",
    "    X = preprocess_pipeline.fit_transform(df)\n",
    "\n",
    "    return DataFrame(X)\n",
    "\n"
   ]
  },
  {
   "cell_type": "code",
   "execution_count": 18,
   "metadata": {},
   "outputs": [
    {
     "data": {
      "text/plain": [
       "['Pclass', 'Sex', 'Age', 'Fare', 'Embarked', 'FamilySize', 'Title', 'Deck']"
      ]
     },
     "execution_count": 18,
     "metadata": {},
     "output_type": "execute_result"
    }
   ],
   "source": [
    "# get numeric features\n",
    "keys_dropping = []\n",
    "features_num = X_train.drop(keys_dropping, axis=1).select_dtypes(include=np.number).columns.tolist()\n",
    "features_num"
   ]
  },
  {
   "cell_type": "code",
   "execution_count": null,
   "metadata": {},
   "outputs": [],
   "source": []
  }
 ],
 "metadata": {
  "kernelspec": {
   "display_name": "Python 3",
   "language": "python",
   "name": "python3"
  },
  "language_info": {
   "codemirror_mode": {
    "name": "ipython",
    "version": 3
   },
   "file_extension": ".py",
   "mimetype": "text/x-python",
   "name": "python",
   "nbconvert_exporter": "python",
   "pygments_lexer": "ipython3",
   "version": "3.8.5"
  }
 },
 "nbformat": 4,
 "nbformat_minor": 4
}
